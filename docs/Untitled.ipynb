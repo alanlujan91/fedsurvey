{
 "cells": [
  {
   "cell_type": "markdown",
   "id": "b07723e9-7589-4f5c-985e-59456ee10897",
   "metadata": {
    "@deathbeds/jupyterlab-fonts": {
     "styles": {
      "": {
       "body[data-jp-deck-mode='presenting'] &": {
        "zoom": "192%"
       }
      }
     }
    }
   },
   "source": [
    "<div align=\"center\">\n",
    "\n",
    "# Understanding the Distribution of Wealth and the Racial Wealth Gap using Data Science\n",
    "\n",
    "## By Alan Lujan, PhD\n",
    "\n",
    "### JHU Economics & Econ-ARK\n",
    "\n",
    "</div>\n"
   ]
  },
  {
   "cell_type": "code",
   "execution_count": null,
   "id": "e2f65688-442a-48ed-9ba6-b9c869bbaf80",
   "metadata": {},
   "outputs": [],
   "source": []
  }
 ],
 "metadata": {
  "kernelspec": {
   "display_name": "Python 3 (ipykernel)",
   "language": "python",
   "name": "python3"
  },
  "language_info": {
   "codemirror_mode": {
    "name": "ipython",
    "version": 3
   },
   "file_extension": ".py",
   "mimetype": "text/x-python",
   "name": "python",
   "nbconvert_exporter": "python",
   "pygments_lexer": "ipython3",
   "version": "3.12.2"
  }
 },
 "nbformat": 4,
 "nbformat_minor": 5
}
